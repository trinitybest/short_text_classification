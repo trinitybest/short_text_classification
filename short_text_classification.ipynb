{
 "cells": [
  {
   "cell_type": "code",
   "execution_count": 16,
   "metadata": {
    "collapsed": true
   },
   "outputs": [],
   "source": [
    "import numpy as np\n",
    "import pandas as pd\n",
    "import nltk\n",
    "from bs4 import BeautifulSoup\n",
    "import re\n",
    "import os\n",
    "import codecs\n",
    "from sklearn import feature_extraction\n",
    "import mpld3"
   ]
  },
  {
   "cell_type": "code",
   "execution_count": 17,
   "metadata": {
    "collapsed": true
   },
   "outputs": [],
   "source": [
    "# load nltk's English stopwords as variable called 'stopwords'\n",
    "stopwords = nltk.corpus.stopwords.words('english')"
   ]
  },
  {
   "cell_type": "code",
   "execution_count": 18,
   "metadata": {
    "collapsed": true
   },
   "outputs": [],
   "source": [
    "# load nltk's SnowballStemmer as variabled 'stemmer'\n",
    "from nltk.stem.snowball import SnowballStemmer\n",
    "stemmer = SnowballStemmer(\"english\")"
   ]
  },
  {
   "cell_type": "code",
   "execution_count": 19,
   "metadata": {
    "collapsed": true
   },
   "outputs": [],
   "source": [
    "# here I define a tokenizer and stemmer which returns the set of stems in the text that it is passed\n",
    "\n",
    "def tokenize_and_stem(text):\n",
    "    # first tokenize by sentence, then by word to ensure that punctuation is caught as it's own token\n",
    "    tokens = [word for sent in nltk.sent_tokenize(text) for word in nltk.word_tokenize(sent)]\n",
    "    filtered_tokens = []\n",
    "    # filter out any tokens not containing letters (e.g., numeric tokens, raw punctuation)\n",
    "    for token in tokens:\n",
    "        if re.search('[a-zA-Z]', token) and token not in stopwords:\n",
    "            filtered_tokens.append(token)\n",
    "    stems = [stemmer.stem(t) for t in filtered_tokens]\n",
    "    return stems\n",
    "\n",
    "\n",
    "def tokenize_only(text):\n",
    "    # first tokenize by sentence, then by word to ensure that punctuation is caught as it's own token\n",
    "    tokens = [word.lower() for sent in nltk.sent_tokenize(text) for word in nltk.word_tokenize(sent)]\n",
    "    filtered_tokens = []\n",
    "    # filter out any tokens not containing letters (e.g., numeric tokens, raw punctuation)\n",
    "    for token in tokens:\n",
    "        if re.search('[a-zA-Z]', token) and token not in stopwords:\n",
    "            filtered_tokens.append(token)\n",
    "    return filtered_tokens"
   ]
  },
  {
   "cell_type": "code",
   "execution_count": 20,
   "metadata": {
    "collapsed": true
   },
   "outputs": [],
   "source": [
    "file = pd.read_csv('Python_Training.csv', sep=',', header=None)"
   ]
  },
  {
   "cell_type": "code",
   "execution_count": 21,
   "metadata": {
    "collapsed": false
   },
   "outputs": [
    {
     "name": "stdout",
     "output_type": "stream",
     "text": [
      "                                                 0  1\n",
      "0          rego on hold can it be put back on road  1\n",
      "1                                          buy now  4\n",
      "2  good runner engine drivetrain x system all good  1\n",
      "Int64Index([  0,   1,   2,   3,   4,   5,   6,   7,   8,   9,\n",
      "            ...\n",
      "            589, 590, 591, 592, 593, 594, 595, 596, 597, 598],\n",
      "           dtype='int64', length=599)\n"
     ]
    }
   ],
   "source": [
    "print(file[:3])\n",
    "print(file.index)"
   ]
  },
  {
   "cell_type": "code",
   "execution_count": 22,
   "metadata": {
    "collapsed": false
   },
   "outputs": [
    {
     "name": "stdout",
     "output_type": "stream",
     "text": [
      "training data contains 599\n"
     ]
    }
   ],
   "source": [
    "QAs = []\n",
    "categories = []\n",
    "print(\"training data contains {}\".format(len(file.index)))\n",
    "for row in range(len(file.index)):\n",
    "    tweet = file.iloc[row][0]\n",
    "    category = file.iloc[row][1]\n",
    "    QAs.append(tweet)\n",
    "    categories.append(category)"
   ]
  },
  {
   "cell_type": "code",
   "execution_count": 23,
   "metadata": {
    "collapsed": false
   },
   "outputs": [
    {
     "name": "stdout",
     "output_type": "stream",
     "text": [
      "['rego on hold can it be put back on road', 'buy now', 'good runner engine drivetrain x system all good', 'fair enough does it have a towbar', 'hi any chance you could post a photo of engine thanks', 'seller added photos', 'where is the rust', 'hi ther wer bouts is pik up from', 'hi there would you like to swap intex metal frame pool and mgp vx team eddition', 'hey guys l am away overseas till nov is it ok to bid an if when pay an pick first weekend home l am from taihape']\n",
      "[1, 4, 1, 1, 1, 1, 1, 5, 4, 3]\n",
      "<class 'list'>\n",
      "599\n"
     ]
    }
   ],
   "source": [
    "print(QAs[0:10])\n",
    "print(categories[0:10])\n",
    "print(type(QAs))\n",
    "print(len(QAs))"
   ]
  },
  {
   "cell_type": "code",
   "execution_count": 24,
   "metadata": {
    "collapsed": false
   },
   "outputs": [
    {
     "name": "stdout",
     "output_type": "stream",
     "text": [
      "CPU times: user 242 ms, sys: 1.76 ms, total: 244 ms\n",
      "Wall time: 244 ms\n",
      "(599, 188)\n"
     ]
    }
   ],
   "source": [
    "from sklearn.feature_extraction.text import TfidfVectorizer\n",
    "\n",
    "tfidf_vectorizer = TfidfVectorizer(max_df=0.8, max_features=200000,\n",
    "                                 min_df=5, stop_words='english',\n",
    "                                 use_idf=True, tokenizer=tokenize_and_stem, ngram_range=(1,3))\n",
    "\n",
    "%time tfidf_matrix = tfidf_vectorizer.fit_transform(QAs)\n",
    "\n",
    "print(tfidf_matrix.shape)"
   ]
  },
  {
   "cell_type": "code",
   "execution_count": 25,
   "metadata": {
    "collapsed": true
   },
   "outputs": [],
   "source": [
    "terms = tfidf_vectorizer.get_feature_names()\n"
   ]
  },
  {
   "cell_type": "code",
   "execution_count": 26,
   "metadata": {
    "collapsed": true
   },
   "outputs": [],
   "source": [
    "from sklearn.metrics.pairwise import cosine_similarity\n",
    "dist = 1 - cosine_similarity(tfidf_matrix)"
   ]
  },
  {
   "cell_type": "code",
   "execution_count": 27,
   "metadata": {
    "collapsed": false
   },
   "outputs": [
    {
     "name": "stdout",
     "output_type": "stream",
     "text": [
      "CPU times: user 243 ms, sys: 1.99 ms, total: 245 ms\n",
      "Wall time: 245 ms\n"
     ]
    }
   ],
   "source": [
    "from sklearn.cluster import KMeans\n",
    "\n",
    "num_clusters = 5\n",
    "\n",
    "km = KMeans(n_clusters=num_clusters)\n",
    "\n",
    "%time km.fit(tfidf_matrix)\n",
    "\n",
    "clusters = km.labels_.tolist()"
   ]
  },
  {
   "cell_type": "code",
   "execution_count": 29,
   "metadata": {
    "collapsed": false
   },
   "outputs": [
    {
     "name": "stdout",
     "output_type": "stream",
     "text": [
      "[0, 0, 0, 0, 3, 0, 0, 2, 4, 0, 4, 4, 0, 0, 0, 0, 2, 3, 2, 0, 0, 0, 1, 0, 0, 0, 2, 0, 0, 2, 3, 3, 3, 4, 1, 2, 4, 0, 3, 4, 4, 2, 0, 0, 0, 0, 3, 2, 0, 2, 2, 2, 0, 0, 0, 0, 4, 4, 1, 1, 2, 2, 0, 0, 2, 3, 2, 0, 0, 0, 1, 1, 0, 0, 4, 0, 2, 2, 1, 0, 1, 3, 0, 0, 0, 3, 3, 2, 3, 3, 2, 1, 0, 3, 0, 3, 1, 1, 1, 0, 0, 3, 1, 1, 1, 1, 1, 2, 1, 1, 2, 3, 3, 1, 3, 3, 0, 3, 3, 3, 2, 1, 3, 3, 4, 4, 2, 1, 1, 1, 2, 3, 3, 0, 0, 0, 0, 0, 1, 2, 2, 1, 2, 2, 4, 0, 3, 2, 2, 0, 0, 0, 3, 2, 0, 2, 0, 3, 0, 1, 1, 1, 0, 4, 4, 0, 4, 0, 0, 0, 0, 2, 0, 3, 2, 1, 0, 3, 2, 3, 3, 2, 3, 3, 4, 0, 2, 0, 0, 1, 0, 0, 3, 0, 1, 1, 2, 3, 2, 3, 0, 0, 0, 2, 0, 0, 1, 3, 0, 0, 1, 2, 0, 0, 0, 1, 3, 0, 1, 1, 1, 1, 1, 0, 2, 0, 4, 4, 4, 0, 3, 0, 0, 0, 0, 0, 3, 3, 3, 0, 3, 2, 0, 0, 0, 0, 0, 0, 0, 3, 3, 2, 3, 2, 4, 0, 0, 2, 0, 0, 0, 2, 3, 3, 1, 3, 0, 1, 1, 0, 1, 2, 4, 4, 0, 3, 0, 3, 3, 2, 0, 3, 2, 2, 0, 2, 3, 0, 2, 1, 0, 0, 0, 3, 0, 4, 4, 2, 1, 0, 0, 0, 3, 3, 1, 3, 0, 0, 0, 0, 0, 0, 0, 0, 0, 3, 2, 0, 0, 0, 2, 3, 4, 0, 1, 3, 0, 0, 2, 1, 3, 0, 0, 3, 3, 0, 0, 2, 0, 0, 0, 0, 0, 0, 0, 0, 0, 0, 0, 1, 0, 2, 0, 2, 0, 0, 0, 0, 2, 2, 2, 4, 0, 0, 0, 2, 0, 2, 0, 2, 0, 0, 0, 0, 0, 0, 0, 3, 1, 3, 4, 0, 0, 4, 2, 4, 1, 2, 1, 0, 0, 0, 0, 0, 0, 0, 0, 0, 0, 3, 1, 0, 3, 0, 1, 0, 1, 1, 0, 0, 1, 0, 4, 0, 3, 1, 3, 4, 0, 0, 0, 1, 2, 3, 0, 0, 2, 3, 0, 0, 2, 0, 2, 3, 3, 0, 4, 0, 0, 3, 4, 3, 1, 0, 1, 2, 0, 0, 2, 2, 3, 0, 0, 1, 1, 1, 0, 0, 0, 4, 4, 3, 0, 3, 1, 3, 1, 2, 0, 0, 2, 0, 1, 3, 4, 0, 4, 3, 3, 0, 0, 2, 4, 4, 3, 0, 0, 3, 4, 4, 0, 0, 0, 0, 3, 2, 2, 0, 0, 3, 2, 1, 2, 1, 2, 2, 0, 3, 3, 0, 1, 4, 4, 0, 4, 1, 1, 4, 0, 0, 0, 0, 2, 0, 1, 3, 3, 0, 0, 4, 4, 0, 0, 3, 2, 2, 0, 4, 0, 0, 2, 4, 0, 4, 3, 3, 0, 3, 0, 1, 4, 3, 0, 0, 0, 2, 0, 3, 3, 3, 0, 1, 4, 0, 2, 0, 0, 0, 0, 0, 4, 3, 2, 0, 0, 0, 3, 0, 3, 0, 0, 0, 0, 3, 3, 0, 3, 4, 0, 0, 0, 0, 0, 0, 0, 0, 0, 0, 4]\n",
      "[1, 4, 1, 1, 1, 1, 1, 5, 4, 3, 4, 4, 4, 1, 4, 3, 4, 4, 4, 1, 4, 1, 1, 4, 4, 4, 1, 1, 2, 1, 1, 4, 2, 4, 1, 5, 4, 4, 1, 4, 4, 3, 1, 1, 4, 5, 4, 1, 1, 1, 1, 4, 5, 4, 4, 4, 4, 4, 5, 2, 1, 4, 1, 3, 2, 1, 1, 5, 5, 5, 1, 1, 1, 5, 4, 1, 5, 5, 1, 4, 1, 1, 2, 4, 1, 4, 4, 1, 5, 2, 4, 2, 1, 5, 1, 5, 2, 1, 5, 1, 4, 4, 4, 2, 5, 1, 4, 5, 1, 4, 4, 5, 5, 4, 5, 1, 1, 3, 1, 1, 2, 1, 5, 1, 4, 4, 4, 1, 2, 2, 1, 4, 1, 4, 1, 2, 4, 4, 1, 1, 2, 1, 2, 4, 4, 1, 1, 1, 1, 1, 1, 1, 1, 1, 4, 4, 2, 5, 2, 2, 1, 1, 2, 4, 4, 5, 4, 1, 1, 1, 4, 4, 4, 5, 5, 1, 4, 4, 4, 5, 1, 1, 4, 5, 4, 1, 1, 1, 1, 1, 5, 4, 4, 5, 5, 1, 5, 4, 1, 1, 4, 1, 4, 5, 4, 5, 2, 4, 4, 4, 1, 1, 1, 1, 1, 1, 1, 4, 1, 1, 1, 1, 1, 1, 5, 1, 4, 4, 4, 1, 5, 4, 1, 4, 4, 1, 1, 2, 1, 4, 5, 4, 3, 1, 3, 5, 1, 1, 2, 4, 1, 4, 4, 2, 4, 1, 5, 5, 5, 1, 2, 5, 4, 2, 1, 3, 4, 2, 2, 1, 1, 1, 4, 4, 5, 1, 5, 3, 1, 2, 1, 1, 1, 1, 1, 1, 1, 1, 5, 1, 5, 1, 4, 5, 1, 4, 4, 5, 1, 4, 4, 5, 1, 1, 1, 2, 5, 1, 4, 1, 4, 4, 4, 4, 5, 1, 1, 1, 4, 5, 5, 1, 4, 4, 2, 3, 2, 3, 1, 1, 1, 4, 2, 5, 5, 5, 5, 1, 4, 1, 4, 4, 4, 4, 1, 1, 5, 2, 1, 3, 4, 1, 5, 1, 1, 1, 4, 1, 1, 1, 3, 4, 4, 4, 2, 4, 5, 4, 1, 1, 4, 3, 4, 2, 2, 4, 1, 1, 1, 1, 4, 1, 5, 4, 1, 4, 1, 1, 1, 1, 1, 1, 2, 1, 4, 5, 2, 1, 2, 1, 4, 1, 4, 1, 1, 1, 3, 1, 1, 1, 1, 5, 4, 1, 4, 1, 1, 4, 1, 4, 1, 1, 2, 3, 1, 1, 1, 5, 1, 1, 1, 4, 5, 1, 1, 1, 4, 1, 4, 1, 4, 5, 1, 1, 1, 4, 4, 2, 1, 1, 1, 1, 1, 1, 2, 4, 1, 4, 1, 4, 4, 5, 2, 1, 1, 4, 1, 1, 2, 1, 3, 1, 1, 5, 4, 1, 4, 1, 5, 5, 2, 4, 4, 4, 4, 5, 1, 4, 4, 4, 5, 3, 5, 1, 1, 1, 1, 1, 4, 1, 1, 5, 2, 1, 1, 5, 2, 2, 1, 1, 2, 4, 4, 1, 4, 4, 1, 4, 1, 4, 5, 4, 1, 4, 3, 4, 4, 1, 4, 4, 4, 4, 5, 4, 3, 4, 5, 4, 1, 1, 3, 4, 1, 4, 1, 1, 2, 5, 5, 5, 4, 5, 4, 5, 2, 3, 4, 1, 4, 5, 4, 5, 4, 3, 1, 5, 1, 5, 5, 1, 4, 4, 4, 3, 5, 4, 4, 5, 5, 4, 4, 4, 4, 5, 3, 1, 1, 4, 4, 4, 5, 5, 5, 4, 3, 5, 4, 4, 4]\n"
     ]
    }
   ],
   "source": [
    "print(clusters)\n",
    "print(categories)"
   ]
  },
  {
   "cell_type": "code",
   "execution_count": 31,
   "metadata": {
    "collapsed": false
   },
   "outputs": [],
   "source": [
    "short_text_classification = { 'cluster': clusters, 'categories': categories }\n",
    "\n",
    "frame = pd.DataFrame(short_text_classification, index = [clusters] , columns = ['cluster', 'categories'])"
   ]
  },
  {
   "cell_type": "code",
   "execution_count": 32,
   "metadata": {
    "collapsed": false
   },
   "outputs": [
    {
     "name": "stderr",
     "output_type": "stream",
     "text": [
      "/Applications/anaconda/lib/python3.5/site-packages/IPython/core/formatters.py:92: DeprecationWarning: DisplayFormatter._ipython_display_formatter_default is deprecated: use @default decorator instead.\n",
      "  def _ipython_display_formatter_default(self):\n",
      "/Applications/anaconda/lib/python3.5/site-packages/IPython/core/formatters.py:98: DeprecationWarning: DisplayFormatter._formatters_default is deprecated: use @default decorator instead.\n",
      "  def _formatters_default(self):\n",
      "/Applications/anaconda/lib/python3.5/site-packages/IPython/core/formatters.py:677: DeprecationWarning: PlainTextFormatter._deferred_printers_default is deprecated: use @default decorator instead.\n",
      "  def _deferred_printers_default(self):\n",
      "/Applications/anaconda/lib/python3.5/site-packages/IPython/core/formatters.py:669: DeprecationWarning: PlainTextFormatter._singleton_printers_default is deprecated: use @default decorator instead.\n",
      "  def _singleton_printers_default(self):\n",
      "/Applications/anaconda/lib/python3.5/site-packages/IPython/core/formatters.py:672: DeprecationWarning: PlainTextFormatter._type_printers_default is deprecated: use @default decorator instead.\n",
      "  def _type_printers_default(self):\n",
      "/Applications/anaconda/lib/python3.5/site-packages/IPython/core/formatters.py:669: DeprecationWarning: PlainTextFormatter._singleton_printers_default is deprecated: use @default decorator instead.\n",
      "  def _singleton_printers_default(self):\n",
      "/Applications/anaconda/lib/python3.5/site-packages/IPython/core/formatters.py:672: DeprecationWarning: PlainTextFormatter._type_printers_default is deprecated: use @default decorator instead.\n",
      "  def _type_printers_default(self):\n",
      "/Applications/anaconda/lib/python3.5/site-packages/IPython/core/formatters.py:677: DeprecationWarning: PlainTextFormatter._deferred_printers_default is deprecated: use @default decorator instead.\n",
      "  def _deferred_printers_default(self):\n"
     ]
    },
    {
     "data": {
      "text/html": [
       "<div>\n",
       "<table border=\"1\" class=\"dataframe\">\n",
       "  <thead>\n",
       "    <tr style=\"text-align: right;\">\n",
       "      <th></th>\n",
       "      <th>cluster</th>\n",
       "      <th>categories</th>\n",
       "    </tr>\n",
       "  </thead>\n",
       "  <tbody>\n",
       "    <tr>\n",
       "      <th>0</th>\n",
       "      <td>0</td>\n",
       "      <td>1</td>\n",
       "    </tr>\n",
       "    <tr>\n",
       "      <th>0</th>\n",
       "      <td>0</td>\n",
       "      <td>4</td>\n",
       "    </tr>\n",
       "    <tr>\n",
       "      <th>0</th>\n",
       "      <td>0</td>\n",
       "      <td>1</td>\n",
       "    </tr>\n",
       "    <tr>\n",
       "      <th>0</th>\n",
       "      <td>0</td>\n",
       "      <td>1</td>\n",
       "    </tr>\n",
       "    <tr>\n",
       "      <th>3</th>\n",
       "      <td>3</td>\n",
       "      <td>1</td>\n",
       "    </tr>\n",
       "    <tr>\n",
       "      <th>0</th>\n",
       "      <td>0</td>\n",
       "      <td>1</td>\n",
       "    </tr>\n",
       "    <tr>\n",
       "      <th>0</th>\n",
       "      <td>0</td>\n",
       "      <td>1</td>\n",
       "    </tr>\n",
       "    <tr>\n",
       "      <th>2</th>\n",
       "      <td>2</td>\n",
       "      <td>5</td>\n",
       "    </tr>\n",
       "    <tr>\n",
       "      <th>4</th>\n",
       "      <td>4</td>\n",
       "      <td>4</td>\n",
       "    </tr>\n",
       "    <tr>\n",
       "      <th>0</th>\n",
       "      <td>0</td>\n",
       "      <td>3</td>\n",
       "    </tr>\n",
       "  </tbody>\n",
       "</table>\n",
       "</div>"
      ],
      "text/plain": [
       "   cluster  categories\n",
       "0        0           1\n",
       "0        0           4\n",
       "0        0           1\n",
       "0        0           1\n",
       "3        3           1\n",
       "0        0           1\n",
       "0        0           1\n",
       "2        2           5\n",
       "4        4           4\n",
       "0        0           3"
      ]
     },
     "execution_count": 32,
     "metadata": {},
     "output_type": "execute_result"
    }
   ],
   "source": [
    "frame[:10]"
   ]
  },
  {
   "cell_type": "code",
   "execution_count": 33,
   "metadata": {
    "collapsed": false
   },
   "outputs": [
    {
     "data": {
      "text/plain": [
       "0    267\n",
       "3    108\n",
       "2     91\n",
       "1     77\n",
       "4     56\n",
       "Name: cluster, dtype: int64"
      ]
     },
     "execution_count": 33,
     "metadata": {},
     "output_type": "execute_result"
    }
   ],
   "source": [
    "frame['cluster'].value_counts()\n"
   ]
  },
  {
   "cell_type": "code",
   "execution_count": 53,
   "metadata": {
    "collapsed": false
   },
   "outputs": [
    {
     "data": {
      "text/plain": [
       "1    237\n",
       "4    190\n",
       "5     95\n",
       "2     51\n",
       "3     26\n",
       "Name: categories, dtype: int64"
      ]
     },
     "execution_count": 53,
     "metadata": {},
     "output_type": "execute_result"
    }
   ],
   "source": [
    "frame['categories'].value_counts()"
   ]
  },
  {
   "cell_type": "code",
   "execution_count": 54,
   "metadata": {
    "collapsed": false
   },
   "outputs": [
    {
     "data": {
      "text/plain": [
       "0    104\n",
       "1     47\n",
       "3     44\n",
       "2     42\n",
       "Name: cluster, dtype: int64"
      ]
     },
     "execution_count": 54,
     "metadata": {},
     "output_type": "execute_result"
    }
   ],
   "source": [
    "frame[frame.categories==1]['cluster'].value_counts()\n"
   ]
  },
  {
   "cell_type": "code",
   "execution_count": 46,
   "metadata": {
    "collapsed": false
   },
   "outputs": [
    {
     "data": {
      "text/plain": [
       "0    104\n",
       "1     47\n",
       "3     44\n",
       "2     42\n",
       "Name: cluster, dtype: int64"
      ]
     },
     "execution_count": 46,
     "metadata": {},
     "output_type": "execute_result"
    }
   ],
   "source": [
    "frame[frame.categories==1]['cluster'].value_counts()"
   ]
  },
  {
   "cell_type": "code",
   "execution_count": 47,
   "metadata": {
    "collapsed": false
   },
   "outputs": [
    {
     "data": {
      "text/plain": [
       "0    24\n",
       "1    13\n",
       "2     8\n",
       "3     6\n",
       "Name: cluster, dtype: int64"
      ]
     },
     "execution_count": 47,
     "metadata": {},
     "output_type": "execute_result"
    }
   ],
   "source": [
    "frame[frame.categories==2]['cluster'].value_counts()\n"
   ]
  },
  {
   "cell_type": "code",
   "execution_count": 49,
   "metadata": {
    "collapsed": false
   },
   "outputs": [
    {
     "data": {
      "text/plain": [
       "0    11\n",
       "3     6\n",
       "2     6\n",
       "1     3\n",
       "Name: cluster, dtype: int64"
      ]
     },
     "execution_count": 49,
     "metadata": {},
     "output_type": "execute_result"
    }
   ],
   "source": [
    "frame[frame.categories==3]['cluster'].value_counts()"
   ]
  },
  {
   "cell_type": "code",
   "execution_count": 50,
   "metadata": {
    "collapsed": false
   },
   "outputs": [
    {
     "data": {
      "text/plain": [
       "0    82\n",
       "4    56\n",
       "3    26\n",
       "2    19\n",
       "1     7\n",
       "Name: cluster, dtype: int64"
      ]
     },
     "execution_count": 50,
     "metadata": {},
     "output_type": "execute_result"
    }
   ],
   "source": [
    "frame[frame.categories==4]['cluster'].value_counts()"
   ]
  },
  {
   "cell_type": "code",
   "execution_count": 51,
   "metadata": {
    "collapsed": false
   },
   "outputs": [
    {
     "data": {
      "text/plain": [
       "0    46\n",
       "3    26\n",
       "2    16\n",
       "1     7\n",
       "Name: cluster, dtype: int64"
      ]
     },
     "execution_count": 51,
     "metadata": {},
     "output_type": "execute_result"
    }
   ],
   "source": [
    "frame[frame.categories==5]['cluster'].value_counts()"
   ]
  },
  {
   "cell_type": "code",
   "execution_count": 52,
   "metadata": {
    "collapsed": false
   },
   "outputs": [
    {
     "data": {
      "text/plain": [
       "1    237\n",
       "4    190\n",
       "5     95\n",
       "2     51\n",
       "3     26\n",
       "Name: categories, dtype: int64"
      ]
     },
     "execution_count": 52,
     "metadata": {},
     "output_type": "execute_result"
    }
   ],
   "source": [
    "frame['categories'].value_counts()"
   ]
  }
 ],
 "metadata": {
  "kernelspec": {
   "display_name": "Python 3",
   "language": "python",
   "name": "python3"
  },
  "language_info": {
   "codemirror_mode": {
    "name": "ipython",
    "version": 3
   },
   "file_extension": ".py",
   "mimetype": "text/x-python",
   "name": "python",
   "nbconvert_exporter": "python",
   "pygments_lexer": "ipython3",
   "version": "3.5.2"
  }
 },
 "nbformat": 4,
 "nbformat_minor": 0
}
